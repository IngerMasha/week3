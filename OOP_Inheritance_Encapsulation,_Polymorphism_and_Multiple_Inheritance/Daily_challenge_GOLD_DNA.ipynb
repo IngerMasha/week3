{
  "nbformat": 4,
  "nbformat_minor": 0,
  "metadata": {
    "colab": {
      "provenance": [],
      "authorship_tag": "ABX9TyPiBoLxC94t0JrRiXg54kiv",
      "include_colab_link": true
    },
    "kernelspec": {
      "name": "python3",
      "display_name": "Python 3"
    },
    "language_info": {
      "name": "python"
    }
  },
  "cells": [
    {
      "cell_type": "markdown",
      "metadata": {
        "id": "view-in-github",
        "colab_type": "text"
      },
      "source": [
        "<a href=\"https://colab.research.google.com/github/IngerMasha/week3/blob/main/OOP_Inheritance_Encapsulation%2C_Polymorphism_and_Multiple_Inheritance/Daily_challenge_GOLD_DNA.ipynb\" target=\"_parent\"><img src=\"https://colab.research.google.com/assets/colab-badge.svg\" alt=\"Open In Colab\"/></a>"
      ]
    },
    {
      "cell_type": "code",
      "execution_count": 2,
      "metadata": {
        "colab": {
          "base_uri": "https://localhost:8080/",
          "height": 356
        },
        "id": "CJP6wbn1YlB5",
        "outputId": "013734eb-c0d9-4e1a-fb26-d039f8e1ddd8"
      },
      "outputs": [
        {
          "output_type": "error",
          "ename": "KeyboardInterrupt",
          "evalue": "",
          "traceback": [
            "\u001b[0;31m---------------------------------------------------------------------------\u001b[0m",
            "\u001b[0;31mKeyboardInterrupt\u001b[0m                         Traceback (most recent call last)",
            "\u001b[0;32m<ipython-input-2-fc41ed6c180a>\u001b[0m in \u001b[0;36m<cell line: 55>\u001b[0;34m()\u001b[0m\n\u001b[1;32m     53\u001b[0m \u001b[0mnum_organisms\u001b[0m \u001b[0;34m=\u001b[0m \u001b[0;36m10\u001b[0m\u001b[0;34m\u001b[0m\u001b[0;34m\u001b[0m\u001b[0m\n\u001b[1;32m     54\u001b[0m \u001b[0menvironment_prob\u001b[0m \u001b[0;34m=\u001b[0m \u001b[0;36m0.1\u001b[0m\u001b[0;34m\u001b[0m\u001b[0;34m\u001b[0m\u001b[0m\n\u001b[0;32m---> 55\u001b[0;31m \u001b[0mgenerations_needed\u001b[0m \u001b[0;34m=\u001b[0m \u001b[0msimulate_organisms\u001b[0m\u001b[0;34m(\u001b[0m\u001b[0mnum_organisms\u001b[0m\u001b[0;34m,\u001b[0m \u001b[0menvironment_prob\u001b[0m\u001b[0;34m)\u001b[0m\u001b[0;34m\u001b[0m\u001b[0;34m\u001b[0m\u001b[0m\n\u001b[0m\u001b[1;32m     56\u001b[0m \u001b[0;34m\u001b[0m\u001b[0m\n\u001b[1;32m     57\u001b[0m \u001b[0mprint\u001b[0m\u001b[0;34m(\u001b[0m\u001b[0;34mf\"Number of generations needed: {generations_needed}\"\u001b[0m\u001b[0;34m)\u001b[0m\u001b[0;34m\u001b[0m\u001b[0;34m\u001b[0m\u001b[0m\n",
            "\u001b[0;32m<ipython-input-2-fc41ed6c180a>\u001b[0m in \u001b[0;36msimulate_organisms\u001b[0;34m(num_organisms, environment_prob)\u001b[0m\n\u001b[1;32m     48\u001b[0m         \u001b[0;32mfor\u001b[0m \u001b[0morganism\u001b[0m \u001b[0;32min\u001b[0m \u001b[0morganisms\u001b[0m\u001b[0;34m:\u001b[0m\u001b[0;34m\u001b[0m\u001b[0;34m\u001b[0m\u001b[0m\n\u001b[1;32m     49\u001b[0m             \u001b[0morganism\u001b[0m\u001b[0;34m.\u001b[0m\u001b[0mmutate\u001b[0m\u001b[0;34m(\u001b[0m\u001b[0;34m)\u001b[0m\u001b[0;34m\u001b[0m\u001b[0;34m\u001b[0m\u001b[0m\n\u001b[0;32m---> 50\u001b[0;31m             \u001b[0;32mif\u001b[0m \u001b[0morganism\u001b[0m\u001b[0;34m.\u001b[0m\u001b[0mdna\u001b[0m\u001b[0;34m.\u001b[0m\u001b[0mis_all_ones\u001b[0m\u001b[0;34m(\u001b[0m\u001b[0;34m)\u001b[0m\u001b[0;34m:\u001b[0m\u001b[0;34m\u001b[0m\u001b[0;34m\u001b[0m\u001b[0m\n\u001b[0m\u001b[1;32m     51\u001b[0m                 \u001b[0;32mreturn\u001b[0m \u001b[0mgenerations\u001b[0m\u001b[0;34m\u001b[0m\u001b[0;34m\u001b[0m\u001b[0m\n\u001b[1;32m     52\u001b[0m \u001b[0;34m\u001b[0m\u001b[0m\n",
            "\u001b[0;32m<ipython-input-2-fc41ed6c180a>\u001b[0m in \u001b[0;36mis_all_ones\u001b[0;34m(self)\u001b[0m\n\u001b[1;32m     29\u001b[0m \u001b[0;34m\u001b[0m\u001b[0m\n\u001b[1;32m     30\u001b[0m     \u001b[0;32mdef\u001b[0m \u001b[0mis_all_ones\u001b[0m\u001b[0;34m(\u001b[0m\u001b[0mself\u001b[0m\u001b[0;34m)\u001b[0m\u001b[0;34m:\u001b[0m\u001b[0;34m\u001b[0m\u001b[0;34m\u001b[0m\u001b[0m\n\u001b[0;32m---> 31\u001b[0;31m         \u001b[0;32mreturn\u001b[0m \u001b[0mall\u001b[0m\u001b[0;34m(\u001b[0m\u001b[0mgene\u001b[0m\u001b[0;34m.\u001b[0m\u001b[0mvalue\u001b[0m \u001b[0;34m==\u001b[0m \u001b[0;36m1\u001b[0m \u001b[0;32mfor\u001b[0m \u001b[0mchrom\u001b[0m \u001b[0;32min\u001b[0m \u001b[0mself\u001b[0m\u001b[0;34m.\u001b[0m\u001b[0mchromosomes\u001b[0m \u001b[0;32mfor\u001b[0m \u001b[0mgene\u001b[0m \u001b[0;32min\u001b[0m \u001b[0mchrom\u001b[0m\u001b[0;34m.\u001b[0m\u001b[0mgenes\u001b[0m\u001b[0;34m)\u001b[0m\u001b[0;34m\u001b[0m\u001b[0;34m\u001b[0m\u001b[0m\n\u001b[0m\u001b[1;32m     32\u001b[0m \u001b[0;34m\u001b[0m\u001b[0m\n\u001b[1;32m     33\u001b[0m \u001b[0;32mclass\u001b[0m \u001b[0mOrganism\u001b[0m\u001b[0;34m:\u001b[0m\u001b[0;34m\u001b[0m\u001b[0;34m\u001b[0m\u001b[0m\n",
            "\u001b[0;31mKeyboardInterrupt\u001b[0m: "
          ]
        }
      ],
      "source": [
        "import random\n",
        "\n",
        "class Gene:\n",
        "    def __init__(self, value=0):\n",
        "        self.value = value\n",
        "\n",
        "    def mutate(self):\n",
        "        self.value = 1 - self.value  # Flip the gene value (0 becomes 1, 1 becomes 0)\n",
        "\n",
        "class Chromosome:\n",
        "    def __init__(self):\n",
        "        self.genes = [Gene(random.choice([0, 1])) for _ in range(10)]\n",
        "\n",
        "    def mutate(self):\n",
        "        # Randomly decide how many genes to flip\n",
        "        num_flips = random.randint(1, 10)\n",
        "        indices_to_flip = random.sample(range(10), num_flips)\n",
        "\n",
        "        for index in indices_to_flip:\n",
        "            self.genes[index].mutate()\n",
        "\n",
        "class DNA:\n",
        "    def __init__(self):\n",
        "        self.chromosomes = [Chromosome() for _ in range(10)]\n",
        "\n",
        "    def mutate(self):\n",
        "        chrom_index = random.randint(0, 9)\n",
        "        self.chromosomes[chrom_index].mutate()\n",
        "\n",
        "    def is_all_ones(self):\n",
        "        return all(gene.value == 1 for chrom in self.chromosomes for gene in chrom.genes)\n",
        "\n",
        "class Organism:\n",
        "    def __init__(self, dna, environment_prob):\n",
        "        self.dna = dna\n",
        "        self.environment_prob = environment_prob\n",
        "\n",
        "    def mutate(self):\n",
        "        if random.random() < self.environment_prob:\n",
        "            self.dna.mutate()\n",
        "\n",
        "def simulate_organisms(num_organisms, environment_prob):\n",
        "    organisms = [Organism(DNA(), environment_prob) for _ in range(num_organisms)]\n",
        "    generations = 0\n",
        "\n",
        "    while True:\n",
        "        generations += 1\n",
        "        for organism in organisms:\n",
        "            organism.mutate()\n",
        "            if organism.dna.is_all_ones():\n",
        "                return generations\n",
        "\n",
        "num_organisms = 10\n",
        "environment_prob = 0.1\n",
        "generations_needed = simulate_organisms(num_organisms, environment_prob)\n",
        "\n",
        "print(f\"Number of generations needed: {generations_needed}\")\n"
      ]
    }
  ]
}