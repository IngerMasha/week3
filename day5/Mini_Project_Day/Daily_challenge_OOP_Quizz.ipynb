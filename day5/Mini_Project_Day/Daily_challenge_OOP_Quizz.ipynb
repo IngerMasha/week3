{
  "nbformat": 4,
  "nbformat_minor": 0,
  "metadata": {
    "colab": {
      "provenance": [],
      "authorship_tag": "ABX9TyMG4I/Ga7ahnvX12egqlyF7",
      "include_colab_link": true
    },
    "kernelspec": {
      "name": "python3",
      "display_name": "Python 3"
    },
    "language_info": {
      "name": "python"
    }
  },
  "cells": [
    {
      "cell_type": "markdown",
      "metadata": {
        "id": "view-in-github",
        "colab_type": "text"
      },
      "source": [
        "<a href=\"https://colab.research.google.com/github/IngerMasha/week3/blob/main/day5/Mini_Project_Day/Daily_challenge_OOP_Quizz.ipynb\" target=\"_parent\"><img src=\"https://colab.research.google.com/assets/colab-badge.svg\" alt=\"Open In Colab\"/></a>"
      ]
    },
    {
      "cell_type": "code",
      "execution_count": 1,
      "metadata": {
        "colab": {
          "base_uri": "https://localhost:8080/"
        },
        "id": "dbF26wGhZpL9",
        "outputId": "7f533dea-d3e4-4e80-951a-f30c3238f6b7"
      },
      "outputs": [
        {
          "output_type": "stream",
          "name": "stdout",
          "text": [
            "Deck after shuffling: [('7', 'Clubs'), ('5', 'Hearts'), ('Q', 'Diamonds'), ('8', 'Clubs'), ('Q', 'Hearts'), ('2', 'Clubs'), ('K', 'Diamonds'), ('5', 'Diamonds'), ('J', 'Diamonds'), ('5', 'Clubs'), ('4', 'Hearts'), ('3', 'Diamonds'), ('2', 'Spades'), ('3', 'Clubs'), ('9', 'Diamonds'), ('K', 'Hearts'), ('8', 'Diamonds'), ('3', 'Spades'), ('7', 'Diamonds'), ('A', 'Hearts'), ('10', 'Hearts'), ('6', 'Clubs'), ('Q', 'Clubs'), ('6', 'Spades'), ('2', 'Diamonds'), ('6', 'Diamonds'), ('5', 'Spades'), ('9', 'Hearts'), ('7', 'Spades'), ('8', 'Spades'), ('A', 'Diamonds'), ('K', 'Clubs'), ('10', 'Spades'), ('A', 'Spades'), ('7', 'Hearts'), ('J', 'Clubs'), ('A', 'Clubs'), ('9', 'Clubs'), ('3', 'Hearts'), ('Q', 'Spades'), ('8', 'Hearts'), ('10', 'Diamonds'), ('9', 'Spades'), ('4', 'Clubs'), ('K', 'Spades'), ('4', 'Diamonds'), ('6', 'Hearts'), ('2', 'Hearts'), ('J', 'Hearts'), ('4', 'Spades'), ('J', 'Spades'), ('10', 'Clubs')]\n",
            "Dealt card: ('10', 'Clubs')\n",
            "Deck after dealing one card: [('7', 'Clubs'), ('5', 'Hearts'), ('Q', 'Diamonds'), ('8', 'Clubs'), ('Q', 'Hearts'), ('2', 'Clubs'), ('K', 'Diamonds'), ('5', 'Diamonds'), ('J', 'Diamonds'), ('5', 'Clubs'), ('4', 'Hearts'), ('3', 'Diamonds'), ('2', 'Spades'), ('3', 'Clubs'), ('9', 'Diamonds'), ('K', 'Hearts'), ('8', 'Diamonds'), ('3', 'Spades'), ('7', 'Diamonds'), ('A', 'Hearts'), ('10', 'Hearts'), ('6', 'Clubs'), ('Q', 'Clubs'), ('6', 'Spades'), ('2', 'Diamonds'), ('6', 'Diamonds'), ('5', 'Spades'), ('9', 'Hearts'), ('7', 'Spades'), ('8', 'Spades'), ('A', 'Diamonds'), ('K', 'Clubs'), ('10', 'Spades'), ('A', 'Spades'), ('7', 'Hearts'), ('J', 'Clubs'), ('A', 'Clubs'), ('9', 'Clubs'), ('3', 'Hearts'), ('Q', 'Spades'), ('8', 'Hearts'), ('10', 'Diamonds'), ('9', 'Spades'), ('4', 'Clubs'), ('K', 'Spades'), ('4', 'Diamonds'), ('6', 'Hearts'), ('2', 'Hearts'), ('J', 'Hearts'), ('4', 'Spades'), ('J', 'Spades')]\n"
          ]
        }
      ],
      "source": [
        "import random\n",
        "\n",
        "class Deck:\n",
        "    def __init__(self):\n",
        "        suits = ['Hearts', 'Diamonds', 'Clubs', 'Spades']\n",
        "        values = ['A', '2', '3', '4', '5', '6', '7', '8', '9', '10', 'J', 'Q', 'K']\n",
        "        self.cards = [(value, suit) for suit in suits for value in values]\n",
        "        self.shuffle()\n",
        "\n",
        "    def shuffle(self):\n",
        "        \"\"\"Shuffles the deck of cards.\"\"\"\n",
        "        random.shuffle(self.cards)\n",
        "\n",
        "    def deal(self):\n",
        "        \"\"\"Deals a single card from the deck and removes it from the deck.\"\"\"\n",
        "        if self.cards:\n",
        "            return self.cards.pop()\n",
        "        else:\n",
        "            return None\n",
        "\n",
        "deck = Deck()\n",
        "print(\"Deck after shuffling:\", deck.cards)\n",
        "print(\"Dealt card:\", deck.deal())\n",
        "print(\"Deck after dealing one card:\", deck.cards)\n"
      ]
    },
    {
      "cell_type": "markdown",
      "source": [
        "What is a class?\n",
        "\n",
        "A class is a blueprint for creating objects. It defines a set of attributes and methods that the created objects (instances) will have. Classes encapsulate data for the object and methods to manipulate that data.\n",
        "What is an instance?\n",
        "\n",
        "An instance is a specific realization of a class. When a class is instantiated, an object is created with its own unique set of attributes and methods as defined by the class.\n",
        "What is encapsulation?\n",
        "\n",
        "Encapsulation is the concept of bundling data (attributes) and methods (functions) that operate on the data into a single unit, called a class. It hides the internal state of the object and only exposes a controlled interface to interact with it.\n",
        "What is abstraction?\n",
        "\n",
        "Abstraction is the process of hiding complex implementation details and showing only the essential features of an object. It allows the user to interact with the object at a higher level without needing to understand its inner workings.\n",
        "What is inheritance?\n",
        "\n",
        "Inheritance is a mechanism by which one class (the child or subclass) inherits attributes and methods from another class (the parent or superclass). It allows for code reuse and the creation of a hierarchical relationship between classes.\n",
        "What is multiple inheritance?\n",
        "\n",
        "Multiple inheritance is a feature where a class can inherit from more than one base class. This allows a subclass to inherit attributes and methods from multiple parent classes.\n",
        "What is polymorphism?\n",
        "\n",
        "Polymorphism is the ability of different classes to be treated as instances of the same class through a common interface. It allows methods to be used interchangeably across different classes, typically through method overriding or overloading.\n",
        "What is method resolution order or MRO?\n",
        "\n",
        "Method Resolution Order (MRO) is the order in which methods are inherited from multiple base classes in the presence of multiple inheritance. It determines the sequence in which base classes are searched when executing a method, ensuring a consistent and predictable method lookup."
      ],
      "metadata": {
        "id": "bjnJvoU9Zv70"
      }
    }
  ]
}